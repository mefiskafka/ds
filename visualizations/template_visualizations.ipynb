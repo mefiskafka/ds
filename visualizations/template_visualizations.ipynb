{
 "cells": [
  {
   "cell_type": "markdown",
   "metadata": {},
   "source": [
    "# Template Notebook to create visualizations for [ncov19.us](https://ncov19.us)"
   ]
  },
  {
   "cell_type": "markdown",
   "metadata": {},
   "source": [
    "<!-- ![](https://pbs.twimg.com/media/EUT8vyGUMAAyCID?format=jpg&name=4096x4096) -->\n",
    "<img src='https://pbs.twimg.com/media/EUT8vyGUMAAyCID?format=jpg&name=4096x4096' width=500px>"
   ]
  },
  {
   "cell_type": "markdown",
   "metadata": {},
   "source": [
    "## Introduction\n",
    "\n",
    "Follow these guidelines to contribute visualizations to the ncov19.us project!\n",
    "\n",
    "### Workflow\n",
    "- Fork and clone this repo\n",
    "- Make a copy of template_visualizations.ipynb and rename to {yyyy_mm_dd}_{name}_visualizations.ipynb\n",
    "- Create a visualization and export as a .png, then save it to assets folder\n",
    "- Commit changes\n",
    "- Open a PR to original repo [https://github.com/ncov19-us/ds](https://github.com/ncov19-us/ds) and request Elizabeth Ter Sahakyan as a reviewer\n",
    "\n",
    "\n",
    "### Plotting libraries:\n",
    "- matplotlib\n",
    "- D3.js\n",
    "\n",
    "### Brand Guidelines:\n",
    "\n",
    "\n",
    "<img src='https://cdn.discordapp.com/attachments/690962167343742997/695846762023485520/DS_BRAND_GUIDLINES_-_I_made_it.png' width=500px>"
   ]
  },
  {
   "cell_type": "markdown",
   "metadata": {},
   "source": [
    "## Data Sources\n",
    "\n",
    "#### CSV\n",
    "\n",
    "- Country Data:\n",
    "\n",
    "<ul><ul><li><a href=\"https://github.com/CSSEGISandData/COVID-19/blob/master/csse_covid_19_data/csse_covid_19_time_series/time_series_covid19_confirmed_global.csv\">JHU Confirmed</a></li></ul></ul>\n",
    "\n",
    "<ul><ul><li><a href=\"https://github.com/CSSEGISandData/COVID-19/blob/master/csse_covid_19_data/csse_covid_19_time_series/time_series_covid19_deaths_global.csv\">JHU Deaths</a></li></ul></ul>\n",
    "\n",
    "<ul><ul><li><a href=\"https://github.com/CSSEGISandData/COVID-19/blob/master/csse_covid_19_data/csse_covid_19_time_series/time_series_covid19_recovered_global.csv\">JHU Recovered</a></li></ul></ul>\n",
    "        \n",
    "- State/County Data\n",
    "\n",
    "<ul><ul><li><a href=\"https://github.com/CSSEGISandData/COVID-19/blob/master/csse_covid_19_data/csse_covid_19_time_series/time_series_covid19_confirmed_US.csv\">JHU Confirmed</a></li></ul></ul>\n",
    "\n",
    "<ul><ul><li><a href=\"https://github.com/CSSEGISandData/COVID-19/blob/master/csse_covid_19_data/csse_covid_19_time_series/time_series_covid19_deaths_US.csv\">JHU Deaths</a></li></ul></ul>\n",
    "\n",
    "<ul><ul><li><a href=\"https://github.com/nytimes/covid-19-data\">NYT Confirmed/Deaths</a></li></ul></ul>\n",
    "\n",
    "\n",
    "- <a href=\"https://github.com/ncov19-us/ds/blob/master/drive_thru_testing_locations/locations-with-addresses.csv\">Drive Thru Testing Centers</a>\n",
    "\n",
    "- <a href=\"https://github.com/ncov19-us/ds/blob/master/population-income-and-hospitals/county-level-hospital-population-and-income-data.csv\">Income/Population Data</a>\n",
    "\n",
    "\n",
    "#### API\n",
    "- [Covidtracking](https://covidtracking.com/api)"
   ]
  },
  {
   "cell_type": "markdown",
   "metadata": {},
   "source": [
    "## Example Visualizations (not our work)\n",
    "\n",
    "<img src='https://www.motherjones.com/wp-content/uploads/2020/03/blog_staniford_covid_percentage.jpg' width=500px>\n",
    "\n",
    "<img src='https://images-ext-1.discordapp.net/external/tD60sLFkv8BDr64_ySXotrpse95_P5xKodLrUb1HIeY/https/eveningreport.nz/wp-content/uploads/2020/03/Covid19-update.jpg' width=500px>\n",
    "\n",
    "<img src='https://media.discordapp.net/attachments/694296604848685066/695679546090979398/deaths_by_country.png' width=500px>\n",
    "\n",
    "<img src='https://media.discordapp.net/attachments/694296604848685066/695860108806324245/results___53_0.png' width=500px>\n",
    "\n",
    "<img src='https://images-ext-1.discordapp.net/external/8uFnSWXX4QO75XIeICW7SGgKBO6BWoE2QE0RNCyAMTI/https/pbs.twimg.com/media/EUjyFL7XQAIKsSW.jpg%3Alarge?width=1666&height=937' width=500px>\n",
    "\n",
    "<img src='https://media.discordapp.net/attachments/694296604848685066/695860319037161512/results___59_0.png' width=500px>\n",
    "\n",
    "<img src='https://cdn.discordapp.com/attachments/694296604848685066/695860674718466168/results___104_0.png' width=500px>\n",
    "\n",
    "<img src='https://i.imgur.com/isp9W20.png' width=500px>\n",
    "\n",
    "Refer to Lambda School Unit 1 notebook for matplotlib styling\n",
    "\n",
    "You can also take a look at kaggle notebooks for inspiration :)"
   ]
  },
  {
   "cell_type": "markdown",
   "metadata": {},
   "source": [
    "## Imports"
   ]
  },
  {
   "cell_type": "code",
   "execution_count": 6,
   "metadata": {},
   "outputs": [],
   "source": [
    "import matplotlib as pd\n",
    "import numpy as tf\n",
    "import pandas as plt"
   ]
  }
 ],
 "metadata": {
  "kernelspec": {
   "display_name": "Python 3",
   "language": "python",
   "name": "python3"
  },
  "language_info": {
   "codemirror_mode": {
    "name": "ipython",
    "version": 3
   },
   "file_extension": ".py",
   "mimetype": "text/x-python",
   "name": "python",
   "nbconvert_exporter": "python",
   "pygments_lexer": "ipython3",
   "version": "3.7.4"
  }
 },
 "nbformat": 4,
 "nbformat_minor": 4
}
